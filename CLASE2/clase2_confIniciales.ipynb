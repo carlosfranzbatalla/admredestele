{
 "cells": [
  {
   "cell_type": "markdown",
   "metadata": {},
   "source": [
    "## Clase 2 – Configuraciones Iniciales e Instalación del cliente.\n",
    "Continuando con la creación de una arquitectura ‘cliente-servidor’, en esta clase:\n",
    "- Configurar los parámetros básicos de nuestro servidor Linux.\n",
    "- Instalar el cliente desde el cual accederemos a nuestro servidor Linux.\n",
    "- Manejo de los comandos básicos de gestión de archivos en Linux.\n",
    "- Manejo de permisos de archivos y directorios en Linux"
   ]
  },
  {
   "cell_type": "markdown",
   "metadata": {},
   "source": [
    "### 1 Configuración del Servidor Linux.\n",
    "Para usar propiamente nuestra VM Ubuntu como un servidor Linux, debemos configurarle una dirección IP estática. Estos son los pasos:\n",
    "\n",
    "1.1) Desde Virtualbox, inicie la VM TelematicaAdmRedes que creamos en la clase anterior e introduzca los datos de usuario y clave.\n",
    "\n",
    "1.2) Vamos a escalar privilegios convirtiéndonos administrador dentro del sistema. En Linux, el administrador es llamado el usuario ‘root’. "
   ]
  },
  {
   "cell_type": "code",
   "execution_count": null,
   "metadata": {},
   "outputs": [],
   "source": [
    "carlosfranz@telematicaadmredes:~$ sudo -i\n",
    "[sudo] password for carlosfranz:\n",
    "root@telematicaadmredes:~# whoami\n",
    "root"
   ]
  },
  {
   "cell_type": "markdown",
   "metadata": {},
   "source": [
    "Y verificamos con ‘whoami’ que realmente seamos usuario ‘root’.\n",
    "\n",
    "1.3) Vamos a consultar nuestras configuraciones actuales con el comando ‘ifconfig’. Alli se muestra las interfaces de red instaladas. Nos interesa ‘enp0s3’ que es la tarjeta de red de nuestro servidor. Su dirección IP actual (192.168.1.9) asignada dinámicamente y que queremos cambiar por una fija y la máscara de subred (255.255.255.0)."
   ]
  },
  {
   "cell_type": "code",
   "execution_count": null,
   "metadata": {},
   "outputs": [],
   "source": [
    "carlosfranz@telematicaadmredes:~$ ifconfig\n",
    "enp0s3 Link encap:Ethernet HWaddr 08:00:27:8b:f0:53\n",
    " inet addr:192.168.1.9 Bcast:192.168.1.255\n",
    "Mask:255.255.255.0\n",
    "inet6 addr: fe80::a00:27ff:fe8b:f053/64 Scope:Link\n",
    " UP BROADCAST RUNNING MULTICAST MTU:1500 Metric:1\n",
    " RX packets:79 errors:0 dropped:0 overruns:0 frame:0\n",
    " TX packets:68 errors:0 dropped:0 overruns:0\n",
    "carrier:0\n",
    " collisions:0 txqueuelen:1000\n",
    " RX bytes:10662 (10.6 KB) TX bytes:10934 (10.9 KB)\n",
    "lo Link encap:Local Loopback\n",
    " inet addr:127.0.0.1 Mask:255.0.0.0\n",
    " inet6 addr: ::1/128 Scope:Host\n",
    " UP LOOPBACK RUNNING MTU:65536 Metric:1\n",
    " RX packets:160 errors:0 dropped:0 overruns:0\n",
    "frame:0\n",
    " TX packets:160 errors:0 dropped:0 overruns:0\n",
    "carrier:0\n",
    " collisions:0 txqueuelen:1\n",
    " RX bytes:11840 (11.8 KB) TX bytes:11840 (11.8 KB)\n"
   ]
  },
  {
   "cell_type": "markdown",
   "metadata": {},
   "source": [
    "1.4) Consultamos la Puerta de Enlace actual con el comando ‘ip route show’. El parámetro ‘default’ nos muestra que es la dirección:’192.168.1.1’."
   ]
  },
  {
   "cell_type": "code",
   "execution_count": null,
   "metadata": {},
   "outputs": [],
   "source": [
    "root@telematicaadmredes:/etc/network# ip route show\n",
    "default via 192.168.1.1 dev enp0s3\n",
    "192.168.1.0/24 dev enp0s3 proto kernel scope link src\n",
    "192.168.1.9 "
   ]
  },
  {
   "cell_type": "markdown",
   "metadata": {},
   "source": [
    "1.5) Vamos a usar el comando Linux ‘pwd’ (present working directory) para saber en que directorio nos encontramos en este momento."
   ]
  },
  {
   "cell_type": "code",
   "execution_count": null,
   "metadata": {},
   "outputs": [],
   "source": [
    "root@telematicaadmredes:~# pwd\n",
    "/root"
   ]
  },
  {
   "cell_type": "markdown",
   "metadata": {},
   "source": [
    "1.6) Con el comando ‘cd’ (change directory) nos iremos a la ruta donde se encuentran los archivos de configuración, concretamente las configuraciones de red: etc/network. En Linux, el directorio donde se guardan las configuraciones del sistema es: /etc"
   ]
  },
  {
   "cell_type": "code",
   "execution_count": null,
   "metadata": {},
   "outputs": [],
   "source": [
    "root@telematicaadmredes:~# cd /etc/network/\n",
    "root@telematicaadmredes:/etc/network# ls\n",
    "if-down.d if-post-down.d if-pre-up.d if-up.d interfaces\n",
    "interfaces.d "
   ]
  },
  {
   "cell_type": "markdown",
   "metadata": {},
   "source": [
    "1.7) Allí está el archivo ‘interfaces’. Vamos a respaldarlo (con cp) y a abrirlo con el\n",
    "editor ‘nano’."
   ]
  },
  {
   "cell_type": "code",
   "execution_count": null,
   "metadata": {},
   "outputs": [],
   "source": [
    "root@telematicaadmredes:/etc/network# cp interfaces\n",
    "interfaces.dist\n",
    "root@telematicaadmredes:/etc/network# nano interfaces\n",
    "# This file describes the network interfaces available on\n",
    "your system\n",
    "# and how to activate them. For more information, see\n",
    "interfaces(5).\n",
    "source /etc/network/interfaces.d/*\n",
    "# The loopback network interface\n",
    "auto lo\n",
    "iface lo inet loopback\n",
    "# The primary network interface\n",
    "auto enp0s3\n",
    "iface enp0s3 inet dhcp"
   ]
  },
  {
   "cell_type": "markdown",
   "metadata": {},
   "source": [
    "En ‘interfaces’ se muestran dos adaptadores de red: lo (https://es.wikipedia.org/wiki/Loopback) y enp0s3. De acuerdo a esta configuración, a enp0s3 le es asignado dinámicamente una dirección a través de DHCP.\n",
    "\n",
    "Nosotros vamos a fijar una dirección a la interfaz enp0s3 colocando los datos como el cuadro:"
   ]
  },
  {
   "cell_type": "code",
   "execution_count": null,
   "metadata": {},
   "outputs": [],
   "source": [
    "# This file describes the network interfaces available on\n",
    "your system\n",
    "# and how to activate them. For more information, see\n",
    "interfaces(5).\n",
    "source /etc/network/interfaces.d/*\n",
    "# The loopback network interface\n",
    "auto lo\n",
    "iface lo inet loopback\n",
    "# The primary network interface\n",
    "auto enp0s3\n",
    "iface enp0s3 inet static\n",
    "address <1>\n",
    "netmask <2>\n",
    "gateway <3>\n",
    "dns-nameservers 8.8.8.8 8.8.4.4"
   ]
  },
  {
   "cell_type": "markdown",
   "metadata": {},
   "source": [
    "Siendo <1> la dirección IP deseada para nuestro servidor. \n",
    "\n",
    "En mi caso es ‘192.168.1.7’. <2> la máscara de subred, usaremos la encontrada en el paso 2.3. <3> usaremos la puerta de enlace encontrado en el paso 2.4. También podemos fijar desde aquí los nombres de nuestro servidor de dominio, usaremos los de Google (8.8.8.8 8.8.4.4).\n",
    "\n",
    "1.8) Para que los cambios hagan efecto, debemos reiniciar el servicio ‘networking’ de nuestro servidor."
   ]
  },
  {
   "cell_type": "code",
   "execution_count": null,
   "metadata": {},
   "outputs": [],
   "source": [
    "root@telematicaadmredes:/etc/network# service networking\n",
    "restart"
   ]
  },
  {
   "cell_type": "markdown",
   "metadata": {},
   "source": [
    "1.9) Verificamos los cambios."
   ]
  },
  {
   "cell_type": "code",
   "execution_count": null,
   "metadata": {},
   "outputs": [],
   "source": [
    "root@telematicaadmredes:/etc/network# ifconfig\n",
    "enp0s3 Link encap:Ethernet HWaddr 08:00:27:8b:f0:53\n",
    " inet addr:192.168.1.9 Bcast:192.168.1.255\n",
    "Mask:255.255.255.0\n",
    " inet6 addr: fe80::a00:27ff:fe8b:f053/64 Scope:Link\n",
    " UP BROADCAST RUNNING MULTICAST MTU:1500 Metric:1\n",
    " RX packets:748 errors:0 dropped:0 overruns:0\n",
    "frame:0\n",
    " TX packets:410 errors:0 dropped:0 overruns:0\n",
    "carrier:0\n",
    " collisions:0 txqueuelen:1000\n",
    " RX bytes:65140 (65.1 KB) TX bytes:52288 (52.2 KB)\n",
    "lo Link encap:Local Loopback\n",
    " inet addr:127.0.0.1 Mask:255.0.0.0\n",
    " inet6 addr: ::1/128 Scope:Host\n",
    " UP LOOPBACK RUNNING MTU:65536 Metric:1\n",
    " RX packets:160 errors:0 dropped:0 overruns:0\n",
    "frame:0\n",
    " TX packets:160 errors:0 dropped:0 overruns:0\n",
    "carrier:0\n",
    " collisions:0 txqueuelen:1\n",
    " RX bytes:11840 (11.8 KB) TX bytes:11840 (11.8 KB)"
   ]
  },
  {
   "cell_type": "markdown",
   "metadata": {},
   "source": [
    "### 2 Instalación del cliente\n",
    "\n",
    "Un programa cliente ssh es necesario para acceder a nuestro servidor. Si el terminal desde el que deseamos acceder a nuestro servidor es Linux, la consola puede ser la vía para hacerlo. Pero no siempre tendremos permisos para acceder desde consola o necesitaremos entrar desde un terminal Windows, Mac o Android.\n",
    "\n",
    "Instalaremos PuTTY. Si están en Windows descarguen los instaladores desde aquí: Página de descarga de PuTTY\n",
    "\n",
    "Si están en Linux, busquen en sus repositorios locales y el gestor de paquetes lo instalara.\n",
    "\n",
    "Se encontrarán con esta ventana, que por defecto marca el protocolo de conexión:SSH y el puerto:22. Solo falta que tipeen la dirección de nuestro servidor Linux, la que configuramos como estática y les abrirá la consola. Esto lo pueden hacer desde cualquier terminal que este en la misma red que nuestro servidor. \n",
    "\n",
    "![alt text](./images/Screenshot from 2022-03-09 15-41-05.png)\n"
   ]
  },
  {
   "cell_type": "markdown",
   "metadata": {},
   "source": [
    "### 3 Manejo de archivos\n",
    "\n",
    "Entre a su servidor Linux (directamente o via ssh).\n",
    "\n",
    "#### Creación de Directorios\n",
    "\n",
    "La creación de directorios es un proceso realmente sencillo. Para esto, el sistema nos provee una herramienta llamada mkdir. Su forma es la siguiente:"
   ]
  },
  {
   "cell_type": "code",
   "execution_count": null,
   "metadata": {},
   "outputs": [],
   "source": [
    "mkdir [ruta] [directorio]"
   ]
  },
  {
   "cell_type": "markdown",
   "metadata": {},
   "source": [
    "#### Creación de archivos\n",
    "\n",
    "La forma más fácil y directa de crear un archivo vacío en el sistema es con el comando ‘touch’."
   ]
  },
  {
   "cell_type": "code",
   "execution_count": null,
   "metadata": {},
   "outputs": [],
   "source": [
    "touch [opciones] [ruta][nombre_del_archivo]"
   ]
  },
  {
   "cell_type": "markdown",
   "metadata": {},
   "source": [
    "#### Copiando archivos\n",
    "\n",
    "La copia de archivos desde línea de comandos cp y tiene esta estructura básica"
   ]
  },
  {
   "cell_type": "code",
   "execution_count": null,
   "metadata": {},
   "outputs": [],
   "source": [
    "cp [opciones] [archivo] [destino]"
   ]
  },
  {
   "cell_type": "markdown",
   "metadata": {},
   "source": [
    "Este comando fue utilizado la clase pasada para la creación del archivo de respaldo de /etc/network/interfaces. Entonces llegamos a la ruta ‘/etc/network’ e hicimos esto:"
   ]
  },
  {
   "cell_type": "code",
   "execution_count": null,
   "metadata": {},
   "outputs": [],
   "source": [
    "cp interfaces interfaces.dist"
   ]
  },
  {
   "cell_type": "markdown",
   "metadata": {},
   "source": [
    "Pudimos desde cualquier otra ruta ejecutar lo anterior así:"
   ]
  },
  {
   "cell_type": "code",
   "execution_count": null,
   "metadata": {},
   "outputs": [],
   "source": [
    "cp /etc/network/interfaces /etc/network/interfaces.dist"
   ]
  },
  {
   "cell_type": "markdown",
   "metadata": {},
   "source": [
    "Con cp está permitido el uso de comodines (wildcards). Por ejemplo, queremos hacer un respaldo de todos los archivos de configuración del sistema (ubicados, como vimos en la clase anterior en /etc). Primero creamos un directorio /home/MisBackups."
   ]
  },
  {
   "cell_type": "code",
   "execution_count": null,
   "metadata": {},
   "outputs": [],
   "source": [
    "mkdir /home/MisBackups"
   ]
  },
  {
   "cell_type": "markdown",
   "metadata": {},
   "source": [
    "Luego"
   ]
  },
  {
   "cell_type": "code",
   "execution_count": null,
   "metadata": {},
   "outputs": [],
   "source": [
    "cp -R /etc/* /home/MisBackups"
   ]
  },
  {
   "cell_type": "markdown",
   "metadata": {},
   "source": [
    "Para esto, utilizamos la opcion ‘-R’ que indica al cp de copiar directorios y su contenido de forma recursiva."
   ]
  },
  {
   "cell_type": "markdown",
   "metadata": {},
   "source": [
    "Consulte la ayuda para conocer todas las variantes del comando cp"
   ]
  },
  {
   "cell_type": "code",
   "execution_count": null,
   "metadata": {},
   "outputs": [],
   "source": [
    "cp --help"
   ]
  },
  {
   "cell_type": "markdown",
   "metadata": {},
   "source": [
    "#### Borrando archivos\n",
    "\n",
    "El borrado de archivos esta implementado con el comando rm."
   ]
  },
  {
   "cell_type": "code",
   "execution_count": null,
   "metadata": {},
   "outputs": [],
   "source": [
    "rm [opciones] [ruta] [archivo]"
   ]
  },
  {
   "cell_type": "markdown",
   "metadata": {},
   "source": [
    "### 4 Permisos de acceso\n",
    "Cada archivo de nuestro sistema de archivos (incluso los directorios) tiene determinados permisos de acceso. Estos son, básicamente tres: Lectura (r), Escritura (w) y Ejecución (x). Estos permisos pueden ser aplicados al usuario dueño del archivo, al grupo de usuarios al cual pertenece y a todos los demás usuarios del sistema. Esto significa que podemos asignar permisos de ejecución al dueño de un archivo, pero podemos asignar permisos de sólo lectura a todos los demás usuarios.\n",
    "\n",
    "Para listar los archivos y sus respectivos permisos, usaremos el comando ‘ls’"
   ]
  },
  {
   "cell_type": "code",
   "execution_count": null,
   "metadata": {},
   "outputs": [],
   "source": [
    "ls –l /home/MisBackups"
   ]
  },
  {
   "cell_type": "markdown",
   "metadata": {},
   "source": [
    "Que devolverá un listado como el siguiente:"
   ]
  },
  {
   "cell_type": "code",
   "execution_count": null,
   "metadata": {},
   "outputs": [],
   "source": [
    "-rw-r--r-- 1 carlosfranz users 12288 Jun 27 05:47 aliases.db\n",
    "-rw-r--r-- 1 carlosfranz users 279 Jun 27 05:47 alsa-pulse.conf\n",
    "drwxr-xr-x 2 carlosfranz users 4096 Jun 27 05:47 alternatives\n",
    "drwxr-xr-x 10 carlosfranz users 4096 Jun 27 05:47 apache2\n",
    "drwxr-xr-x 2 carlosfranz users 126 Jun 27 05:47 apparmor\n",
    "drwxr-xr-x 7 carlosfranz users 4096 Jun 27 05:47 apparmor.d\n",
    "-rw-r--r-- 1 carlosfranz users 769 Jun 27 05:47 appstream.conf\n",
    "-rw-r--r-- 1 carlosfranz users 123 Jun 27 05:47 apulse.conf\n",
    "-rw-r--r-- 1 carlosfranz users 263 Jun 27 05:47 asound-pulse.conf\n",
    "drwxr-x--- 2 carlosfranz users 6 Jun 27 05:47 audisp\n",
    "drwxr-x--- 2 carlosfranz users 6 Jun 27 05:47 audit\n",
    "-rw-r--r-- 1 carlosfranz users 14356 Jun 27 05:47 autofs.conf\n",
    "-rw-r--r-- 1 carlosfranz users 798 Jun 27 05:47 auto.master\n",
    "drwxr-xr-x 2 carlosfranz users 6 Jun 27 05:47 auto.master.d\n",
    "-rw-r--r-- 1 carlosfranz users 524 Jun 27 05:47 auto.misc"
   ]
  },
  {
   "cell_type": "markdown",
   "metadata": {},
   "source": [
    "La primera columna de este listado nos indica el permiso asignado, en función a la letra. Si el primer carácter tiene una letra (‘d’) es un directorio, sino aparecerá un (‘-’). Para el resto de los carácteres, los dividiremos en grupos de tres:\n",
    "\n",
    "- Carácteres 1-2-3: son permisos asignados al usuario\n",
    "- Carácteres 4-5-6: son permisos asignados al grupo\n",
    "- Carácteres 7-8-9: son permisos asignados a todos los demás usuarios.\n",
    "\n",
    "si en lugar de una letra aparece un símbolo menos (‘-’) quiere decir que el permiso no está asignado.\n",
    "\n",
    "Ejemplos:\n",
    "|            |                                                                                                                                          |\n",
    "|------------|------------------------------------------------------------------------------------------------------------------------------------------|\n",
    "| -rw-rw-r-- | Es un archivo que puede ser leído por todos los usuarios del sistema, pero solo puede ser modificado por su propietario y por su grupo   |\n",
    "| drwxrwxrwx | Se trata de un directorio con permisos de lectura, escritura y ejecución para el dueño, el grupo y el resto de los usuarios del sistema. |\n",
    "| -r—r—r--   | Es un archivo que podría ser leído por todos los usuarios, pero no modificado ni ejecutado por ninguno.                                  |\n",
    "| -rwx------ | Es un archivo que solo puede ser leído, modificado y ejecutado por su dueño.                                                             |"
   ]
  },
  {
   "cell_type": "markdown",
   "metadata": {},
   "source": [
    "#### Gestión de permisos.\n",
    "\n",
    "Para manejar permisos Linux nos ofrece una herramienta llamada chmod."
   ]
  },
  {
   "cell_type": "code",
   "execution_count": null,
   "metadata": {},
   "outputs": [],
   "source": [
    "chmod [quien] [+/-] [permiso] [archivo]"
   ]
  },
  {
   "cell_type": "markdown",
   "metadata": {},
   "source": [
    "El parámetro:\n",
    " \n",
    "- [quien]: puede contener una letra u (usuario dueño del archivo), una letra g (grupo) o una letra o (todos los demás).\n",
    "- [+/-]: permite asigna un permiso con el carácter ‘+’ o denegarlo con ‘-’.\n",
    "- [permiso]:x, r, w vistos anteriormente.\n",
    "\n",
    "Ejemplos:\n",
    "|                           |                                                                                                                                                 |\n",
    "|---------------------------|-------------------------------------------------------------------------------------------------------------------------------------------------|\n",
    "| chmod u+x appstream.conf  | Asigna permiso de ejecución del archivo appstream.conf solo para su dueño.                                                                      |\n",
    "| chmod o-x movebackup.py   | Deniega permiso de ejecución del archivo movebackup.py a todos los usuarios que no pertenezcan al grupo del usuario propietario de ese archivo. |\n",
    "| chmod ug+r appstream.conf | Asigna permiso de lectura del archivo appstream.conf para su dueño y para el grupo al que pertenece                                             |"
   ]
  }
 ],
 "metadata": {
  "language_info": {
   "name": "python"
  },
  "orig_nbformat": 4
 },
 "nbformat": 4,
 "nbformat_minor": 2
}
